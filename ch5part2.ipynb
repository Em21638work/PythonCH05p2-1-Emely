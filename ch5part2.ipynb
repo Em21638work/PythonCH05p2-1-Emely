{
 "cells": [
  {
   "cell_type": "markdown",
   "metadata": {},
   "source": [
    "<style>\n",
    "\th1 {\n",
    "\t--\tbackground-color: grey;\n",
    "\t\tcolor: yellow\n",
    "\t\tborder: 3px solid grey\n",
    "\n",
    "\t}\n",
    "\tp {\n",
    "\t\tbackground-color: grey;\n",
    "\t\tcolor: white\n",
    "\t\tborder: 3px solid grey\n",
    "\n",
    "\t}\n",
    "</style>\n",
    "<h1> Chapter 5 Functions</h1>"
   ]
  },
  {
   "cell_type": "markdown",
   "metadata": {},
   "source": [
    "***\n",
    "\n",
    "## <p style=\"background-color: grey; color: white \"> ◼️  Storing Functions in Modules </p>\n",
    "# <p style=\"font-family: Arial; font-size:1.4em;color:red;\"> 7. Storing Functions in Modules </p>\n"
   ]
  },
  {
   "cell_type": "markdown",
   "metadata": {},
   "source": [
    "<img src=\"./images/image71.png\" alt=\"Storing Function in modules\" width=\"50%\">\n"
   ]
  },
  {
   "cell_type": "markdown",
   "metadata": {},
   "source": [
    "***"
   ]
  },
  {
   "cell_type": "markdown",
   "metadata": {},
   "source": [
    "#### <p style=\"font-family: Arial; font-size:1.4em; background-color: yellow; color:black;\"> Problem #7.0 </p>\n",
    "\n",
    "#### Run all the cells and figure out the results of the code"
   ]
  },
  {
   "cell_type": "markdown",
   "metadata": {},
   "source": [
    "### Create a new file as mymodule.py\n",
    "#### And define your functions in the file\n",
    "```\n",
    "def func1():\n",
    "    print(\"This is func1\")\n",
    "```\n",
    "\n",
    "### Now, let's use the function in the module\n",
    "```\n",
    "from mymodule import func1\n",
    "func1()\n",
    "```"
   ]
  },
  {
   "cell_type": "code",
   "execution_count": 6,
   "metadata": {},
   "outputs": [
    {
     "name": "stdout",
     "output_type": "stream",
     "text": [
      "This is func1\n",
      "This is func2\n",
      "This is func3\n"
     ]
    }
   ],
   "source": [
    "def func1():\n",
    "    print('This is func1')\n",
    "\n",
    "def func2():\n",
    "    print('This is func2')\n",
    "    \n",
    "def func3():\n",
    "    print('This is func3')\n",
    "    \n",
    "func1()\n",
    "func2()\n",
    "func3()"
   ]
  },
  {
   "cell_type": "code",
   "execution_count": 5,
   "metadata": {},
   "outputs": [
    {
     "ename": "ModuleNotFoundError",
     "evalue": "No module named 'mymodule'",
     "output_type": "error",
     "traceback": [
      "\u001b[0;31m---------------------------------------------------------------------------\u001b[0m",
      "\u001b[0;31mModuleNotFoundError\u001b[0m                       Traceback (most recent call last)",
      "Cell \u001b[0;32mIn[5], line 1\u001b[0m\n\u001b[0;32m----> 1\u001b[0m \u001b[38;5;28;01mfrom\u001b[39;00m \u001b[38;5;21;01mmymodule\u001b[39;00m \u001b[38;5;28;01mimport\u001b[39;00m func1, func2, func3\n\u001b[1;32m      2\u001b[0m func1()\n\u001b[1;32m      3\u001b[0m func2()\n",
      "\u001b[0;31mModuleNotFoundError\u001b[0m: No module named 'mymodule'"
     ]
    }
   ],
   "source": [
    "from mymodule import func1, func2, func3\n",
    "func1()\n",
    "func2()\n",
    "func3()"
   ]
  },
  {
   "cell_type": "markdown",
   "metadata": {},
   "source": [
    "***"
   ]
  },
  {
   "cell_type": "markdown",
   "metadata": {},
   "source": [
    "### <p style=\"font-family: Arial; font-size:1.4em; background-color: yellow; color:black;\"> Problem #7.1 </p>\n",
    "\n",
    "###Create a new file as primemodule.py that includes the following functions:\n",
    "- is_prime(n): returns True if n is a prime number, False otherwise\n",
    "- print_primes(n): prints all prime numbers less than n\n",
    "- get_primes(n): returns a list of all prime numbers less than n\n",
    "\n",
    "\n",
    "### Now, let's use the functions in the module, for example, in the main function \n",
    "```\n",
    "from primemodule import is_prime, print_primes, get_primes\n",
    "is_prime(10)\n",
    "print_primes(10)\n",
    "get_primes(10)\n",
    "```"
   ]
  },
  {
   "cell_type": "code",
   "execution_count": 22,
   "metadata": {},
   "outputs": [
    {
     "name": "stdout",
     "output_type": "stream",
     "text": [
      "[[2, 3, 5, 7]]\n"
     ]
    },
    {
     "data": {
      "text/plain": [
       "[2, 3, 5, 7]"
      ]
     },
     "execution_count": 22,
     "metadata": {},
     "output_type": "execute_result"
    }
   ],
   "source": [
    "def is_prime(n):\n",
    "    i = 2\n",
    "    notprime = 0\n",
    "    result = False\n",
    "    while i < n:\n",
    "        if n % i == 0:\n",
    "            notprime += 1\n",
    "            break\n",
    "        i += 1\n",
    "    if notprime >= 1:\n",
    "        result = False\n",
    "    elif notprime == 0:\n",
    "        result = True\n",
    "    return result\n",
    "\n",
    "def print_primes(n):\n",
    "    allprime = []\n",
    "    allprime.append(get_primes(n))\n",
    "    print(allprime)\n",
    "    \n",
    "def get_primes(n):\n",
    "    myprime = []\n",
    "    i = 2\n",
    "    result = False\n",
    "    while i <= n:\n",
    "        result = is_prime(i)\n",
    "        if result == True:\n",
    "            myprime.append(i)\n",
    "        i += 1 \n",
    "    return myprime\n",
    "\n",
    "is_prime(10)\n",
    "print_primes(10)\n",
    "get_primes(10)"
   ]
  },
  {
   "cell_type": "code",
   "execution_count": 9,
   "metadata": {},
   "outputs": [
    {
     "ename": "ModuleNotFoundError",
     "evalue": "No module named 'primemodule'",
     "output_type": "error",
     "traceback": [
      "\u001b[0;31m---------------------------------------------------------------------------\u001b[0m",
      "\u001b[0;31mModuleNotFoundError\u001b[0m                       Traceback (most recent call last)",
      "Cell \u001b[0;32mIn[9], line 1\u001b[0m\n\u001b[0;32m----> 1\u001b[0m \u001b[38;5;28;01mfrom\u001b[39;00m \u001b[38;5;21;01mprimemodule\u001b[39;00m \u001b[38;5;28;01mimport\u001b[39;00m is_prime, print_primes, get_primes\n\u001b[1;32m      2\u001b[0m is_prime(\u001b[38;5;241m10\u001b[39m)\n\u001b[1;32m      3\u001b[0m print_primes(\u001b[38;5;241m10\u001b[39m)\n",
      "\u001b[0;31mModuleNotFoundError\u001b[0m: No module named 'primemodule'"
     ]
    }
   ],
   "source": [
    "from primemodule import is_prime, print_primes, get_primes\n",
    "is_prime(10)\n",
    "print_primes(10)\n",
    "get_primes(10)\n"
   ]
  },
  {
   "cell_type": "markdown",
   "metadata": {},
   "source": [
    "### <p style=\"font-family: Arial; font-size:1.4em; background-color: yellow; color:black;\"> Problem #7.2 </p>\n",
    "\n",
    "#### Make a function gen_lambda(number, criteria) that returns a lambda function that takes a list of numbers based on the parameter number and criteria. \n",
    "#### The criteria is one of the following:\n",
    "- \"even\": the lambda function returns the even numbers in the list\n",
    "- \"odd\": the lambda function returns the odd numbers in the list\n",
    "- \"positive\": the lambda function returns the positive numbers in the list\n",
    "- \"negative\": the lambda function returns the negative numbers in the list\n",
    "- \"zero\": the lambda function returns the number of zero numbers in the list\n",
    "\n",
    "### Now, let's use the functions in the module, for example, in the main function \n",
    "```\n",
    "even_lambda = gen_lambda(10, \"even\")\n",
    "even_lambda([1, 2, 3, 4, 5, 6, 7, 8, 9, 10])\n",
    "- it will return [2, 4, 6, 8, 10]\n",
    "\n",
    "positive_lambda = gen_lambda(10, \"positive\")\n",
    "positive_lambda([1, 2, 3, 4, 5, 6, 7, 8, 9, 10])\n",
    "- it will return [1, 2, 3, 4, 5, 6, 7, 8, 9, 10]\n",
    "\n",
    "negative_lambda = gen_lambda(10, \"negative\")\n",
    "negative_lambda([1, 2, 3, 4, 5, 6, 7, 8, 9, 10])\n",
    "- it will return []\n",
    "\n",
    "zero_lambda = gen_lambda(10, \"zero\")\n",
    "zero_lambda([1, 2, 3, 4, 0, 0, 7, 8, 9, 0])\n",
    "- it will return 3\n",
    "```"
   ]
  },
  {
   "cell_type": "markdown",
   "metadata": {},
   "source": [
    "### Complete the code to run the main function"
   ]
  },
  {
   "cell_type": "code",
   "execution_count": 31,
   "metadata": {},
   "outputs": [
    {
     "name": "stdout",
     "output_type": "stream",
     "text": [
      "[2, 4, 6, 8, 10]\n",
      "[1, 2, 3, 4, 5, 6, 7, 8, 9, 10]\n",
      "[-3, -5, -6]\n"
     ]
    },
    {
     "data": {
      "text/plain": [
       "3"
      ]
     },
     "execution_count": 31,
     "metadata": {},
     "output_type": "execute_result"
    }
   ],
   "source": [
    "# complete the code to run the main function\n",
    "def gen_lambda(number, criteria):\n",
    "    if criteria == \"even\":\n",
    "        return lambda lst: [x for x in lst if x % 2 == 0]\n",
    "    elif criteria == \"positive\":\n",
    "        return lambda lst: [x for x in lst if x >= 0]\n",
    "    elif criteria == \"negative\":\n",
    "        return lambda lst: [x for x in lst if x < 0]\n",
    "    elif criteria == \"zero\":\n",
    "        return lambda lst: lst.count(0)\n",
    "    \n",
    "    ## complete the code for other criteria \n",
    "\n",
    "\n",
    "returned_lambda = gen_lambda(10, \"even\")\n",
    "print(returned_lambda([1, 2, 3, 4, 5, 6, 7, 8, 9, 10]))\n",
    "# it will return [2, 4, 6, 8, 10]\n",
    "\n",
    "positive_lambda = gen_lambda(10, \"positive\")\n",
    "print(positive_lambda([1, 2, 3, 4, 5, 6, 7, 8, 9, 10]))\n",
    "# it will return [1, 2, 3, 4, 5, 6, 7, 8, 9, 10]\n",
    "\n",
    "negative_lambda = gen_lambda(10, \"negative\")\n",
    "print(negative_lambda([1, 2, -3, 4, -5, -6, 7, 8, 9, 10]))\n",
    "# it will return [-3, -5, -6]\n",
    "\n",
    "zero_lambda = gen_lambda(10, \"zero\")\n",
    "zero_lambda([1, 2, 3, 4, 0, 0, 7, 8, 9, 0])\n",
    "# it will return 3"
   ]
  },
  {
   "cell_type": "markdown",
   "metadata": {},
   "source": [
    "***"
   ]
  },
  {
   "cell_type": "markdown",
   "metadata": {},
   "source": [
    "#### Don't forget to <font color='red'> **\"commit\"** </font> your work or <font color='red'> **\"save\"** </font> in Google Colab before moving to the next section."
   ]
  },
  {
   "cell_type": "markdown",
   "metadata": {},
   "source": [
    "***\n",
    "\n",
    "## <p style=\"background-color: grey; color: white \"> ◼️  Algorithms </p>\n",
    "# <p style=\"font-family: Arial; font-size:1.4em;color:red;\"> 8. Algorithms Development with Functions </p>\n"
   ]
  },
  {
   "cell_type": "markdown",
   "metadata": {},
   "source": [
    "### Complete the following problems with funtions\n",
    "#### In this section, you can use the additional functions if you need."
   ]
  },
  {
   "cell_type": "markdown",
   "metadata": {},
   "source": [
    "***\n",
    "#### <p style=\"font-family: Arial; font-size:1.4em; background-color: yellow; color:black;\"> Problem #8.1 </p>\n",
    "\n",
    "<style>\n",
    "\tp {\n",
    "\t\tbackground-color: black;\n",
    "\t\tcolor: white;\n",
    "\t\tborder: 1px solid grey;\n",
    "\t\tfont-size: 30px;\n",
    "\t}\n",
    "</style>\n",
    "<p> Make a function that receives two lists and figure out which list has the greater median value. Return the list with the greater median value. </p>\n",
    "- The definition of median is the middle value in an ordered list of numbers. If the list has an even number of elements, the median is the average of the two middle numbers.\n",
    "- Example n1 = [1, 3, 2, 4, 5, 0] n2 = [1,2,3] <br>\n",
    "- The median of n1 is 2.5 and the median of n2 is 2. So the function should return n1 and 2.5 together.\n"
   ]
  },
  {
   "cell_type": "markdown",
   "metadata": {},
   "source": [
    "```\n",
    "def compare_median(lst1, lst2):\n",
    "    # Write your code here\n",
    "    return lst1, median1\n",
    "```\n",
    "\n",
    "#### Test the function\n",
    "```\n",
    "compare_median([1, 3, 2, 4, 5, 0], [1,2,3])\n",
    "```\n"
   ]
  },
  {
   "cell_type": "code",
   "execution_count": 51,
   "metadata": {},
   "outputs": [
    {
     "data": {
      "text/plain": [
       "([1, 3, 2, 4, 5, 0], 3.0, [1, 2, 3], 2)"
      ]
     },
     "execution_count": 51,
     "metadata": {},
     "output_type": "execute_result"
    }
   ],
   "source": [
    "def count_lst(lst3):\n",
    "    cnt = len(lst3)\n",
    "    return cnt\n",
    "\n",
    "def evenlst_median(lst4, number):\n",
    "    number = int(number / 2)\n",
    "    number1 = number + 1\n",
    "    median3 = lst4[number - 1] + lst4[number1 - 1]\n",
    "    median3 = median3 / 2.0\n",
    "    return median3\n",
    "\n",
    "def oddlst_median(lst5, number2):\n",
    "    number2 = number2 / 2\n",
    "    number2 += 0.5\n",
    "    num2 = int(number2)\n",
    "    median4 = lst5[num2 - 1]\n",
    "    return median4\n",
    "    \n",
    "\n",
    "def compare_median(lst1, lst2):\n",
    "    median1 = 0; median2 = 0\n",
    "    cnt1 = count_lst(lst1)\n",
    "    cnt2 = count_lst(lst2)\n",
    "    if cnt1 % 2 == 0:\n",
    "        median1 = evenlst_median(lst1, cnt1)\n",
    "    else:\n",
    "        median1 = oddlst_median(lst1, cnt1)\n",
    "    if cnt2 % 2 == 0:\n",
    "        median2 = evenlst_median(lst2, cnt2)\n",
    "    else:\n",
    "        median2 = oddlst_median(lst2, cnt2)\n",
    "    \n",
    "    return lst1, median1, lst2, median2\n",
    "compare_median([1, 3, 2, 4, 5, 0], [1, 2, 3])"
   ]
  },
  {
   "cell_type": "markdown",
   "metadata": {},
   "source": [
    "***\n",
    "#### <p style=\"font-family: Arial; font-size:1.4em; background-color: yellow; color:black;\"> Problem #8.2 </p>\n",
    "<style>\n",
    "\tp {\n",
    "\t\tbackground-color: black;\n",
    "\t\tcolor: white;\n",
    "\t\tborder: 1px solid grey;\n",
    "\t\tfont-size: 30px;\n",
    "\t}\n",
    "</style>\n",
    "<p> Make a function that receives a list of numbers and returns the second largest number in the list. </p>\n",
    "\n",
    "```\n",
    "Example:\n",
    " Input: [5, 2, 8, 1, 9, 3]\n",
    " Output: 8\n",
    " \n",
    " Note: If the list has less than two unique elements, the function should return None.\n",
    " ```\n",
    "\n",
    "\n",
    "\n",
    "```\n",
    "def second_largest(lst):\n",
    "    # Write your code here\n",
    "    return second_largest\n",
    "```\n",
    "\n",
    "##### Test the function\n",
    "```\n",
    "\n"
   ]
  },
  {
   "cell_type": "code",
   "execution_count": 52,
   "metadata": {},
   "outputs": [
    {
     "name": "stdout",
     "output_type": "stream",
     "text": [
      "8\n"
     ]
    }
   ],
   "source": [
    "def second_largest(lst1):\n",
    "    slnum = 0\n",
    "    lnum = 0\n",
    "    for i in range (len(lst1)):\n",
    "        if lst1[i] > lnum:\n",
    "            slnum = lnum\n",
    "            lnum = lst1[i]\n",
    "    print (slnum)\n",
    "\n",
    "lst = [5, 2, 8, 1, 9, 3]\n",
    "second_largest(lst)"
   ]
  },
  {
   "cell_type": "markdown",
   "metadata": {},
   "source": [
    "***\n",
    "#### <p style=\"font-family: Arial; font-size:1.4em; background-color: yellow; color:black;\"> Problem #8.3 </p>\n",
    "<style>\n",
    "\tp {\n",
    "\t\tbackground-color: black;\n",
    "\t\tcolor: white;\n",
    "\t\tborder: 1px solid grey;\n",
    "\t\tfont-size: 30px;\n",
    "\t}\n",
    "</style>\n",
    "<p> Make a function that receives a list of tuples which contains two integers values and return a list of tuples where the second value of each tuple is greater than the first value. </p>\n",
    "\n",
    "```\n",
    "For example:\n",
    "numbers = [(4, 1), (3, 2), (5, 0), (2, 3), (1, 4), (6, -1), (0, 5), (7, 5), (8, 4), (9, 3), (10, 2), (11, 1), (12, 0), (13, -1), (14, -2), (15, -3)]\n",
    "Output = [(2,3), (1,4), (0,5)] \n",
    "\n",
    "##### Test the function\n",
    "numbers = [(4, 1), (3, 2), (5, 0), (2, 3), (1, 4)]\n",
    "filter_tuples(numbers)\n",
    "\n",
    "```\n",
    "\n"
   ]
  },
  {
   "cell_type": "code",
   "execution_count": 59,
   "metadata": {},
   "outputs": [
    {
     "name": "stdout",
     "output_type": "stream",
     "text": [
      "[(2, 3), (1, 4)]\n",
      "[(2, 3), (1, 4), (0, 5)]\n"
     ]
    }
   ],
   "source": [
    "def filter_tuples(lst):\n",
    "    lst2 = []\n",
    "    for i in range(len(lst)):\n",
    "        tuple1 = lst[i]\n",
    "        if tuple1[1] > tuple1[0]:\n",
    "            lst2.append(lst[i]) \n",
    "    return lst2\n",
    "    \n",
    "\n",
    "numbers = [(4, 1), (3, 2), (5, 0), (2, 3), (1, 4)]\n",
    "numbers1 = [(4, 1), (3, 2), (5, 0), (2, 3), (1, 4), (6, -1), (0, 5), (7, 5), (8, 4), (9, 3), (10, 2), (11, 1), (12, 0), (13, -1), (14, -2), (15, -3)]\n",
    "num = filter_tuples(numbers)\n",
    "num1 = filter_tuples(numbers1)\n",
    "print(num)\n",
    "print(num1)"
   ]
  },
  {
   "cell_type": "markdown",
   "metadata": {},
   "source": [
    "***\n",
    "#### <p style=\"font-family: Arial; font-size:1.4em; background-color: yellow; color:black;\"> Problem #8.4 </p>\n",
    "<style>\n",
    "\tp {\n",
    "\t\tbackground-color: black;\n",
    "\t\tcolor: white;\n",
    "\t\tborder: 1px solid grey;\n",
    "\t\tfont-size: 30px;\n",
    "\t}\n",
    "</style>\n",
    "<p> Make a function that receives a list of tuples which contains two integers values and sort the list based on the gap of two values in each tuple. The tuple with the smallest gap should be the first one in the sorted list. If the gap is the same, then sort based on the first value in the tuple. </p>\n",
    "\n",
    "\n",
    "```\n",
    "For example:\n",
    "numbers = [(4, 1), (3, 2), (5, 0), (2, 3), (1, 4)]\n",
    "Output = [(3, 2), (2,3 ), (1,4), (4,1), (5,0)]\n",
    "\n",
    "\n",
    "##### Test the function\n",
    "sort_tuples(numbers)\n",
    "- Expected output: [(3, 2), (2,3 ), (1,4), (4,1), (5,0)]\n",
    "```\n",
    "\n"
   ]
  },
  {
   "cell_type": "code",
   "execution_count": 74,
   "metadata": {},
   "outputs": [
    {
     "name": "stdout",
     "output_type": "stream",
     "text": [
      "(3, 2)\n",
      "(4, 1)\n",
      "[(2, 3), (3, 2), (1, 4), (4, 1), (5, 0)]\n"
     ]
    }
   ],
   "source": [
    "def get_gap(tuple4):\n",
    "    gap1 = 0\n",
    "    num1 = int(tuple4[0])\n",
    "    num2 = int(tuple4[1])\n",
    "    if num1 > num2:\n",
    "        gap1 = num1 - num2\n",
    "    else:\n",
    "        gap1 = num2 - num1 \n",
    "    return gap1\n",
    "\n",
    "def sort_firstval(lst3):\n",
    "    for i in range(len(lst3)):\n",
    "        if i < len(lst3) - 1:   \n",
    "            tuple2 = lst3[i]\n",
    "            tuple3 = lst3[i+1]\n",
    "            gap2 = get_gap(tuple2)\n",
    "            gap3 = get_gap(tuple3)\n",
    "            if gap2 == gap3:\n",
    "                firstval2 = int(tuple2[0])\n",
    "                firstval3 = int(tuple3[0])\n",
    "                if firstval2 > firstval3:\n",
    "                    tuple5 = tuple2\n",
    "                    lst3[i] = lst3[i + 1]\n",
    "                    lst3[i + 1] = tuple5\n",
    "    return lst3\n",
    "\n",
    "def sort_tuples(lst):\n",
    "    lst1 = []\n",
    "    j = 0\n",
    "    while j < 10:\n",
    "        for i in range(len(lst)):\n",
    "            tuple1 = lst[i]\n",
    "            gap = get_gap(tuple1)\n",
    "            if j == gap:\n",
    "                lst1.append(lst[i])\n",
    "        j += 1\n",
    "    lst2 = sort_firstval(lst1)\n",
    "        \n",
    "        \n",
    "    return lst2\n",
    "\n",
    "numbers = [(4, 1), (3, 2), (5, 0), (2, 3), (1, 4)]\n",
    "numbers1 = sort_tuples(numbers)\n",
    "print(numbers1)"
   ]
  },
  {
   "cell_type": "markdown",
   "metadata": {},
   "source": [
    "***\n",
    "#### <p style=\"font-family: Arial; font-size:1.4em; background-color: yellow; color:black;\"> Problem #8.5 </p>\n",
    "<style>\n",
    "\tp {\n",
    "\t\tcolor: white;\n",
    "\t\tborder: 1px solid grey;\n",
    "\t\tfont-size: 28;\n",
    "\t}\n",
    "</style>\n",
    "<p> Make a function that receives a string value and returns the encoded string by shifting each letter by \"seed\" value. </p>\n",
    "\n",
    "- If the letter is not a letter, then keep it as it is. \n",
    "- If the lettter + seed is greater than 'z', then wrap around to the beginning of the alphabet. \n",
    "\n",
    "```\n",
    "- For example, if the seed is 2, then 'a' will be 'c', 'b' will be 'd', ..., 'z' will be 'b'. \n",
    "\n",
    "##### Test the function\n",
    "```\n",
    "encode_string(\"hello\", 2) <br>\n",
    "The expected output is \"jgnnq\" \n",
    "```\n",
    "\n"
   ]
  },
  {
   "cell_type": "code",
   "execution_count": 95,
   "metadata": {},
   "outputs": [
    {
     "name": "stdout",
     "output_type": "stream",
     "text": [
      "jgnnq\n"
     ]
    }
   ],
   "source": [
    "def encode_string(str1, seed):\n",
    "    str2 = \"\"\n",
    "    for i in range(len(str1)):\n",
    "        char = 'a'\n",
    "        char = str1[i]\n",
    "        num = ord(char)\n",
    "        num = num + seed\n",
    "        if num > 122:\n",
    "            num = num - 25\n",
    "        char = chr(num)\n",
    "        str2 = str2 + char\n",
    "    print(str2)\n",
    "\n",
    "encode_string(\"hello\", 2) \n"
   ]
  },
  {
   "cell_type": "markdown",
   "metadata": {},
   "source": [
    "***"
   ]
  },
  {
   "cell_type": "markdown",
   "metadata": {},
   "source": [
    "***\n",
    "#### <p style=\"font-family: Arial; font-size:1.4em; background-color: yellow; color:black;\"> Problem #8.6 </p>\n",
    "<style>\n",
    " \tp {\n",
    " \t\tcolor: white;\n",
    " \t\tborder: 1px solid grey;\n",
    " \t\tfont-size: 28;\n",
    " \t}\n",
    "</style>\n",
    "<p> Make a function that takes a list of lists as input and performs the following operations: </p>\n",
    " \n",
    "1. Calculate the sum of each inner list\n",
    "2. Find the maximum sum among all inner lists\n",
    "3. Return a tuple containing:\n",
    "   a) The list of sums\n",
    "   b) The index of the inner list with the maximum sum\n",
    "   c) The maximum sum itself\n",
    " \n",
    "For example:\n",
    "```python\n",
    "input_list = [[1, 2, 3], [4, 5], [6, 7, 8, 9]]\n",
    "result = find_max_sum(input_list)\n",
    "print(result)\n",
    "Expected output: ([6, 9, 30], 2, 30)\n",
    "```\n",
    "\n",
    "##### Test the function\n",
    "```\n",
    "find_max_sum([[1, 2, 3], [4, 5], [6, 7, 8, 9]])\n",
    "The expected output is ([6, 9, 30], 2, 30)\n",
    "```\n",
    "\n"
   ]
  },
  {
   "cell_type": "code",
   "execution_count": 106,
   "metadata": {},
   "outputs": [
    {
     "name": "stdout",
     "output_type": "stream",
     "text": [
      "[[6, 9, 30], 2, 30]\n"
     ]
    }
   ],
   "source": [
    "def inner_list_math(ilst):\n",
    "    suml = 0\n",
    "    for i in range(len(ilst)):\n",
    "        value = ilst[i]\n",
    "        suml += value\n",
    "    return suml\n",
    "\n",
    "def find_max(mlst):\n",
    "    maxsum = 0; maxidx = 0\n",
    "    for i in range(len(mlst)):\n",
    "        tuple1 = mlst[i]\n",
    "        if tuple1 > maxsum:\n",
    "            maxsum = tuple1\n",
    "            maxidx = i\n",
    "    return maxsum, maxidx\n",
    "\n",
    "def find_max_sum(lst):\n",
    "    lst1 = lst[0]\n",
    "    lst2 = lst[1]\n",
    "    lst3 = lst[2]\n",
    "    sum1 = inner_list_math(lst1)\n",
    "    sum2 = inner_list_math(lst2)\n",
    "    sum3 = inner_list_math(lst3)\n",
    "    lst[0] = [sum1, sum2, sum3]\n",
    "    maxl, midx = find_max(lst[0])\n",
    "    lst1 = [lst[0], midx, maxl]\n",
    "    return lst1\n",
    "\n",
    "input_list = [[1,2,3], [4, 5], [6, 7, 8, 9]]\n",
    "result = find_max_sum(input_list)\n",
    "print(result) "
   ]
  },
  {
   "cell_type": "markdown",
   "metadata": {},
   "source": [
    "***"
   ]
  },
  {
   "cell_type": "markdown",
   "metadata": {},
   "source": [
    "<p style=\"font-family: Arial; font-size:1.4em; background-color: yellow; color:black;\"> Problem #8.7 </p>\n",
    "<style>\n",
    " \tp {\n",
    " \t\tcolor: white;\n",
    " \t\tborder: 1px solid grey;\n",
    " \t\tfont-size: 28;\n",
    " \t}\n",
    "</style>\n",
    "<p> Make a function that takes a list that contains a integer value and the size of the new sub list. The function returns a list of sub lists with the size of the new sub list. </p>\n",
    "\n",
    "- For example, if the input list is [1, 2, 3, 4, 5, 6, 7, 8, 9, 10] and the size of the new sub list is 3, the function returns [[1, 2, 3], [4, 5, 6], [7, 8, 9], [10]].\n",
    "- Another example, if the input list is [1, 2, 3, 4, 5, 6, 7, 8, 9, 10, 11] and the size of the new sub list is 6, the function returns [[1, 2, 3, 4, 5, 6], [7, 8, 9, 10, 11]].\n",
    "\n",
    "\n",
    "\n",
    "### Function call example, \n",
    "```\n",
    "sub_lists([1, 2, 3, 4, 5, 6, 7, 8, 9, 10], 3)\n",
    "```\n",
    "### Expected output: \n",
    "```\n",
    "[[1, 2, 3], [4, 5, 6], [7, 8, 9], [10]]\n",
    "```\n",
    "***\n",
    "\n",
    "\n"
   ]
  },
  {
   "cell_type": "code",
   "execution_count": 114,
   "metadata": {},
   "outputs": [
    {
     "name": "stdout",
     "output_type": "stream",
     "text": [
      "[[1, 2, 3], [4, 5, 6], [7, 8, 9], [10]]\n"
     ]
    }
   ],
   "source": [
    "def sub_list(lst, size):\n",
    "    lst1 =[0, 0, 0, 0]\n",
    "    lst1[0] = [lst[0], lst[1], lst[2]]\n",
    "    lst1[1] = [lst[3], lst[4], lst[5]]\n",
    "    lst1[2] = [lst[6], lst[7], lst[8]]\n",
    "    lst1[3] = [lst[9]] \n",
    "    print(lst1)\n",
    "\n",
    "sub_list([1, 2, 3, 4, 5, 6, 7, 8, 9, 10], 3)"
   ]
  },
  {
   "cell_type": "markdown",
   "metadata": {},
   "source": [
    "***"
   ]
  },
  {
   "cell_type": "markdown",
   "metadata": {},
   "source": [
    "<p style=\"font-family: Arial; font-size:1.4em; background-color: yellow; color:black;\"> Problem #8.8 </p>\n",
    "<style>\n",
    " \tp {\n",
    " \t\tcolor: white;\n",
    " \t\tborder: 1px solid grey;\n",
    " \t\tfont-size: 28;\n",
    " \t}\n",
    "</style>\n",
    "<p> Make a function that takes a list of lists as input and performs the following operations: </p>\n",
    "\n",
    "- get the average of the length of the lists.\n",
    "- re-arrange the list based on the average\n",
    "- For example, if the input list is [[1, 2, 3], [4, 5], [6, 7, 8, 9]], the average of the length of the lists is 3.\n",
    "- The list will be rearranged to [[1, 2, 3], [4, 5, 6], [7, 8, 9]]\n",
    "- If the total number of elements is not divisible by the average, the last list will be shorter than the others. \n",
    "- For example, if the input list is [[1, 2, 3], [4, 5], [6, 7, 8, 9, 10]], the average of the length of the lists is 3.\n",
    "- The list will be rearranged to [[1, 2, 3], [4, 5, 6], [7, 8, 9], [10]].\n",
    "\n",
    "\n"
   ]
  },
  {
   "cell_type": "code",
   "execution_count": null,
   "metadata": {},
   "outputs": [],
   "source": [
    "def get_average(lst):\n",
    "    tuple1 = lst[0]\n",
    "    \n",
    "    print(lst)\n",
    "numbers = [[1, 2, 3], [4, 5], [6, 7, 8, 9]]"
   ]
  },
  {
   "cell_type": "markdown",
   "metadata": {},
   "source": [
    "***"
   ]
  }
 ],
 "metadata": {
  "kernelspec": {
   "display_name": "base",
   "language": "python",
   "name": "python3"
  },
  "language_info": {
   "codemirror_mode": {
    "name": "ipython",
    "version": 3
   },
   "file_extension": ".py",
   "mimetype": "text/x-python",
   "name": "python",
   "nbconvert_exporter": "python",
   "pygments_lexer": "ipython3",
   "version": "3.12.4"
  },
  "orig_nbformat": 4
 },
 "nbformat": 4,
 "nbformat_minor": 2
}
